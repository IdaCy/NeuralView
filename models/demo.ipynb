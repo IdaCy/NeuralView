{
 "cells": [
  {
   "cell_type": "code",
   "execution_count": 2,
   "metadata": {},
   "outputs": [],
   "source": [
    "import torch\n",
    "from model_loader import build_sparse_autoencoder, load_transformer_model"
   ]
  },
  {
   "cell_type": "code",
   "execution_count": 3,
   "metadata": {},
   "outputs": [],
   "source": [
    "bert, tokenizer = load_transformer_model()\n",
    "sae = build_sparse_autoencoder()"
   ]
  },
  {
   "cell_type": "code",
   "execution_count": 4,
   "metadata": {},
   "outputs": [
    {
     "name": "stdout",
     "output_type": "stream",
     "text": [
      "BERT Output Shape: torch.Size([1, 12, 768])\n"
     ]
    }
   ],
   "source": [
    "text = \"Hello, this is a test sentence for BERT.\"\n",
    "inputs = tokenizer(text, return_tensors=\"pt\")  # Tokenize and convert to tensor\n",
    "\n",
    "# Pass the inputs through the BERT model\n",
    "outputs = bert(**inputs)\n",
    "\n",
    "# Extract last hidden states directly from the output\n",
    "last_hidden_states = outputs.last_hidden_state  # Shape: (batch_size, sequence_length, hidden_dim)\n",
    "\n",
    "# Print the shape of the last hidden states from BERT\n",
    "print(f\"BERT Output Shape: {last_hidden_states.shape}\")"
   ]
  },
  {
   "cell_type": "code",
   "execution_count": null,
   "metadata": {},
   "outputs": [
    {
     "name": "stdout",
     "output_type": "stream",
     "text": [
      "Reconstructed Output Shape: torch.Size([32, 784])\n"
     ]
    }
   ],
   "source": [
    "input_dim = 784\n",
    "sae = build_sparse_autoencoder(input_dim=input_dim, hidden_dim=256)\n",
    "\n",
    "# Example input for the Sparse Autoencoder (using random data)\n",
    "random_input = torch.randn(32, input_dim)  # Batch size of 32 and latent dimension of 1024\n",
    "reconstructed = sae(random_input)  # Forward pass through SAE\n",
    "\n",
    "print(f\"Reconstructed Output Shape: {reconstructed.shape}\")"
   ]
  },
  {
   "cell_type": "code",
   "execution_count": 7,
   "metadata": {},
   "outputs": [
    {
     "name": "stdout",
     "output_type": "stream",
     "text": [
      "Epoch [1/10], Loss: 1.1355\n",
      "Epoch [2/10], Loss: 1.1368\n",
      "Epoch [3/10], Loss: 1.1346\n",
      "Epoch [4/10], Loss: 1.1059\n",
      "Epoch [5/10], Loss: 1.1068\n",
      "Epoch [6/10], Loss: 1.1044\n",
      "Epoch [7/10], Loss: 1.1112\n",
      "Epoch [8/10], Loss: 1.0903\n",
      "Epoch [9/10], Loss: 1.0976\n",
      "Epoch [10/10], Loss: 1.0808\n",
      "Completed training!\n"
     ]
    }
   ],
   "source": [
    "import torch\n",
    "import torch.optim as optim\n",
    "import torch.nn.functional as F\n",
    "\n",
    "input_dim = 784\n",
    "hidden_dim = 256\n",
    "batch_size = 32\n",
    "epochs = 10\n",
    "learning_rate = 1e-3\n",
    "\n",
    "optimizer = optim.Adam(sae.parameters(), lr=learning_rate)\n",
    "\n",
    "for epoch in range(epochs):\n",
    "    random_input = torch.randn(batch_size, input_dim)\n",
    "\n",
    "    reconstructed = sae(random_input)\n",
    "    \n",
    "    loss = F.mse_loss(reconstructed, random_input)\n",
    "\n",
    "    optimizer.zero_grad()\n",
    "    loss.backward()\n",
    "    optimizer.step()\n",
    "    \n",
    "    print(f\"Epoch [{epoch+1}/{epochs}], Loss: {loss.item():.4f}\")\n",
    "\n",
    "print(\"Completed training!\")"
   ]
  },
  {
   "cell_type": "code",
   "execution_count": null,
   "metadata": {},
   "outputs": [],
   "source": []
  }
 ],
 "metadata": {
  "kernelspec": {
   "display_name": "pt",
   "language": "python",
   "name": "python3"
  },
  "language_info": {
   "codemirror_mode": {
    "name": "ipython",
    "version": 3
   },
   "file_extension": ".py",
   "mimetype": "text/x-python",
   "name": "python",
   "nbconvert_exporter": "python",
   "pygments_lexer": "ipython3",
   "version": "3.10.9"
  }
 },
 "nbformat": 4,
 "nbformat_minor": 2
}
